{
 "cells": [
  {
   "cell_type": "code",
   "execution_count": null,
   "metadata": {},
   "outputs": [],
   "source": [
    "%matplotlib inline\n",
    "import nussinov\n",
    "\n",
    "import matplotlib.pyplot as plt\n",
    "from Bio import SeqIO\n",
    "from Bio.SeqFeature import SeqFeature,FeatureLocation\n",
    "from Bio.Graphics import GenomeDiagram\n",
    "\n",
    "\n",
    "def parse_dot_bracket(dot_bracket):\n",
    "    paired_indices = []\n",
    "    stack = []\n",
    "\n",
    "    for index, char in enumerate(dot_bracket):\n",
    "        if char == '(':\n",
    "            stack.append(index)\n",
    "        elif char == ')':\n",
    "            if stack:\n",
    "                opening_index = stack.pop()\n",
    "                paired_indices.append((opening_index, index))\n",
    "    return paired_indices\n",
    "\n",
    "def read_ss_from_fasta(file_path):\n",
    "    with open(file_path, 'r') as file:\n",
    "        lines = file.readlines()\n",
    "        structure = \"\".join(line.strip() for line in lines if not line.startswith('>'))\n",
    "    return structure\n",
    "\n",
    "file_path = '/Users/zkhan/Desktop/CS 466/output/microgreen_id_rna_structure.fasta'\n",
    "dot_bracket_structure = read_ss_from_fasta(file_path)\n",
    "base_pairs = parse_dot_bracket(dot_bracket_structure)\n",
    "\n",
    "gd_diagram = GenomeDiagram.Diagram('RNA Secondary Structure')\n",
    "gd_track_for_features = gd_diagram.new_track(1, name='Features')\n",
    "gd_feature_set = gd_track_for_features.new_set()\n",
    "print(base_pairs)\n",
    "for bp in base_pairs:\n",
    "    print(bp)\n",
    "    feature = SeqFeature(FeatureLocation(bp[0], bp[1]+1), strand=None)\n",
    "    print(feature)\n",
    "    gd_feature_set.add_feature(feature, color=\"blue\", label=True)\n",
    "\n",
    "gd_diagram.draw(format=\"linear\", pagesize='A4', fragments=1, start=0, end=len(dot_bracket_structure))\n",
    "gd_diagram.write(\"GD_labels_default.pdf\", \"pdf\")\n",
    "plt.show()\n",
    "plt.savefig('plot.png')"
   ]
  }
 ],
 "metadata": {
  "language_info": {
   "name": "python"
  }
 },
 "nbformat": 4,
 "nbformat_minor": 2
}
