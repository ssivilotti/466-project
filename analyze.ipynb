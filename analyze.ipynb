{
 "cells": [
  {
   "cell_type": "markdown",
   "metadata": {},
   "source": [
    "## Structure Parsing and Vizualizations"
   ]
  },
  {
   "cell_type": "code",
   "execution_count": null,
   "metadata": {},
   "outputs": [],
   "source": [
    "import matplotlib.pyplot as plt\n",
    "import forgi.graph.bulge_graph as fgb\n",
    "import forgi.visual.mplotlib as fvm\n",
    "\n",
    "def read_fasta_file(fasta_file):\n",
    "    with open(fasta_file, 'r') as file:\n",
    "        sequences, structures, names = [], [], []\n",
    "        line_counter = 0  #keep track of line position\n",
    "\n",
    "        for line in file:\n",
    "            line = line.strip()\n",
    "            if line.startswith('>'):\n",
    "                names.append(line[1:])  #adding names\n",
    "                line_counter = 0\n",
    "            else:\n",
    "                line_counter += 1\n",
    "                if line_counter == 1:\n",
    "                    sequences.append(line)  #adding sequences\n",
    "                elif line_counter == 2:\n",
    "                    structures.append(line)  #adding structures\n",
    "\n",
    "    return sequences, structures, names\n",
    "\n",
    "\n",
    "fasta_file = '/workspaces/466-project/output/microgreen_id_rna_structure_1 copy.fasta'\n",
    "output_dir = '/workspaces/466-project/Structure Visualizations'\n",
    "\n",
    "\n",
    "sequences, structures, names = read_fasta_file(fasta_file)\n",
    "print(\"Sequences:\", sequences)\n",
    "print(\"Structures:\", structures)\n",
    "print(\"Names:\", names)\n",
    "\n",
    "def generate_structure_plots(sequences, structures, names, output_dir):\n",
    "    for i, (seq, struct, name) in enumerate(zip(sequences, structures, names)):\n",
    "        if len(seq) != len(struct):\n",
    "            print(f\"Length mismatch for {name}: sequence length is {len(seq)}, structure length is {len(struct)}\")\n",
    "            continue\n",
    "        try:\n",
    "            bg = fgb.BulgeGraph.from_dotbracket(struct, seq)\n",
    "            plt.figure(figsize=(10, 10))\n",
    "            fvm.plot_rna(bg, lighten=.5, text_kwargs={\"visible\": False})\n",
    "            plt.title(f\"{name} (Structure {i+1})\")\n",
    "            plt.tight_layout()\n",
    "            file_path = f\"{output_dir}/{name}_structure_{i+1}.png\"\n",
    "            plt.savefig(file_path)\n",
    "            plt.close()\n",
    "            print(f\"Generated plot for: {name}, saved to {file_path}\")\n",
    "        except Exception as e:\n",
    "            print(f\"Error processing structure {i+1} ({name}): {e}\")\n",
    "\n",
    "\n",
    "generate_structure_plots(sequences, structures, names, output_dir)\n"
   ]
  },
  {
   "cell_type": "markdown",
   "metadata": {},
   "source": [
    "## Web App"
   ]
  },
  {
   "cell_type": "code",
   "execution_count": 39,
   "metadata": {},
   "outputs": [
    {
     "data": {
      "text/html": [
       "\n",
       "        <iframe\n",
       "            width=\"100%\"\n",
       "            height=\"650\"\n",
       "            src=\"http://127.0.0.1:8050/\"\n",
       "            frameborder=\"0\"\n",
       "            allowfullscreen\n",
       "            \n",
       "        ></iframe>\n",
       "        "
      ],
      "text/plain": [
       "<IPython.lib.display.IFrame at 0x7fb24b1acca0>"
      ]
     },
     "metadata": {},
     "output_type": "display_data"
    }
   ],
   "source": [
    "import dash\n",
    "from dash import html\n",
    "import base64\n",
    "import os\n",
    "\n",
    "app = dash.Dash(__name__)\n",
    "app.title = 'Algae rRNA Structure Visualizations - Zayn Khan & Sofia Sivilotti'  \n",
    "\n",
    "\n",
    "output_dir = '/workspaces/466-project/Structure Visualizations'  \n",
    "\n",
    "image_grid_style = {\n",
    "    'display': 'grid',\n",
    "    'grid-template-columns': 'repeat(auto-fill, minmax(500px, 1fr))',\n",
    "    'grid-gap': '10px',\n",
    "    'max-height': '1000px',\n",
    "    'overflow-y': 'scroll'\n",
    "}\n",
    "\n",
    "def encode_image(image_path):\n",
    "    with open(image_path, 'rb') as file:\n",
    "        encoded_string = base64.b64encode(file.read()).decode()\n",
    "    return f'data:image/png;base64,{encoded_string}'\n",
    "\n",
    "def get_image_files(directory):\n",
    "    supported_extensions = ['.png', '.jpg', '.jpeg']\n",
    "    return [f for f in os.listdir(directory) if os.path.splitext(f)[1].lower() in supported_extensions]\n",
    "\n",
    "# Load and encode images from the output directory\n",
    "image_files = get_image_files(output_dir)\n",
    "encoded_images_with_labels = [\n",
    "    html.Div([\n",
    "        html.Img(src=encode_image(os.path.join(output_dir, img_file)), style={'width': '100%', 'padding': '10px'}),\n",
    "        html.P(img_file.split('_')[0], style={'text-align': 'center', 'border-bottom': '1px solid black'}),  \n",
    "    ]) for img_file in image_files\n",
    "]\n",
    "\n",
    "app.layout = html.Div([\n",
    "    html.H1('Algae rRNA Structure Visualizations - Zayn Khan & Sofia Sivilotti', style={'text-align': 'center'}),  \n",
    "    html.Div(encoded_images_with_labels, style=image_grid_style)\n",
    "])\n",
    "\n",
    "if __name__ == '__main__':\n",
    "    app.run_server(debug=True)\n"
   ]
  }
 ],
 "metadata": {
  "kernelspec": {
   "display_name": "Python 3",
   "language": "python",
   "name": "python3"
  },
  "language_info": {
   "codemirror_mode": {
    "name": "ipython",
    "version": 3
   },
   "file_extension": ".py",
   "mimetype": "text/x-python",
   "name": "python",
   "nbconvert_exporter": "python",
   "pygments_lexer": "ipython3",
   "version": "3.10.13"
  }
 },
 "nbformat": 4,
 "nbformat_minor": 2
}
