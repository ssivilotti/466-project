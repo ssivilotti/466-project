{
 "cells": [
  {
   "cell_type": "markdown",
   "metadata": {},
   "source": [
    "## Structure Parsing and Vizualizations"
   ]
  },
  {
   "cell_type": "code",
   "execution_count": null,
   "metadata": {},
   "outputs": [],
   "source": [
    "import matplotlib.pyplot as plt\n",
    "import forgi.graph.bulge_graph as fgb\n",
    "import forgi.visual.mplotlib as fvm\n",
    "\n",
    "def read_fasta_file(fasta_file):\n",
    "    with open(fasta_file, 'r') as file:\n",
    "        sequences, structures, names = [], [], []\n",
    "        line_counter = 0  #keep track of line position\n",
    "\n",
    "        for line in file:\n",
    "            line = line.strip()\n",
    "            if line.startswith('>'):\n",
    "                names.append(line[1:])  #adding names\n",
    "                line_counter = 0\n",
    "            else:\n",
    "                line_counter += 1\n",
    "                if line_counter == 1:\n",
    "                    sequences.append(line)  #adding sequences\n",
    "                elif line_counter == 2:\n",
    "                    structures.append(line)  #adding structures\n",
    "\n",
    "    return sequences, structures, names\n",
    "\n",
    "\n",
    "fasta_file = '/workspaces/466-project/output/microgreen_id_rna_structure_1 copy.fasta'\n",
    "output_dir = '/workspaces/466-project/Structure Visualizations'\n",
    "\n",
    "\n",
    "sequences, structures, names = read_fasta_file(fasta_file)\n",
    "print(\"Sequences:\", sequences)\n",
    "print(\"Structures:\", structures)\n",
    "print(\"Names:\", names)\n",
    "\n",
    "def generate_structure_plots(sequences, structures, names, output_dir):\n",
    "    for i, (seq, struct, name) in enumerate(zip(sequences, structures, names)):\n",
    "        if len(seq) != len(struct):\n",
    "            print(f\"Length mismatch for {name}: sequence length is {len(seq)}, structure length is {len(struct)}\")\n",
    "            continue\n",
    "        try:\n",
    "            bg = fgb.BulgeGraph.from_dotbracket(struct, seq)\n",
    "            plt.figure(figsize=(10, 10))\n",
    "            fvm.plot_rna(bg, lighten=.5, text_kwargs={\"visible\": False})\n",
    "            plt.title(f\"{name} (Structure {i+1})\")\n",
    "            plt.tight_layout()\n",
    "            file_path = f\"{output_dir}/{name}_structure_{i+1}.png\"\n",
    "            plt.savefig(file_path)\n",
    "            plt.close()\n",
    "            print(f\"Generated plot for: {name}, saved to {file_path}\")\n",
    "        except Exception as e:\n",
    "            print(f\"Error processing structure {i+1} ({name}): {e}\")\n",
    "\n",
    "\n",
    "generate_structure_plots(sequences, structures, names, output_dir)\n"
   ]
  },
  {
   "cell_type": "markdown",
   "metadata": {},
   "source": [
    "## Web App"
   ]
  },
  {
   "cell_type": "code",
   "execution_count": 39,
   "metadata": {},
   "outputs": [
    {
     "data": {
      "text/html": [
       "\n",
       "        <iframe\n",
       "            width=\"100%\"\n",
       "            height=\"650\"\n",
       "            src=\"http://127.0.0.1:8050/\"\n",
       "            frameborder=\"0\"\n",
       "            allowfullscreen\n",
       "            \n",
       "        ></iframe>\n",
       "        "
      ],
      "text/plain": [
       "<IPython.lib.display.IFrame at 0x7fb24b1acca0>"
      ]
     },
     "metadata": {},
     "output_type": "display_data"
    }
   ],
   "source": [
    "import dash\n",
    "from dash import html\n",
    "import base64\n",
    "import os\n",
    "\n",
    "app = dash.Dash(__name__)\n",
    "app.title = 'Algae rRNA Structure Visualizations - Zayn Khan & Sofia Sivilotti'  \n",
    "\n",
    "\n",
    "output_dir = '/workspaces/466-project/Structure Visualizations'  \n",
    "\n",
    "image_grid_style = {\n",
    "    'display': 'grid',\n",
    "    'grid-template-columns': 'repeat(auto-fill, minmax(500px, 1fr))',\n",
    "    'grid-gap': '10px',\n",
    "    'max-height': '1000px',\n",
    "    'overflow-y': 'scroll'\n",
    "}\n",
    "\n",
    "def encode_image(image_path):\n",
    "    with open(image_path, 'rb') as file:\n",
    "        encoded_string = base64.b64encode(file.read()).decode()\n",
    "    return f'data:image/png;base64,{encoded_string}'\n",
    "\n",
    "def get_image_files(directory):\n",
    "    supported_extensions = ['.png', '.jpg', '.jpeg']\n",
    "    return [f for f in os.listdir(directory) if os.path.splitext(f)[1].lower() in supported_extensions]\n",
    "\n",
    "#loading and encoding images from the output directory\n",
    "image_files = get_image_files(output_dir)\n",
    "encoded_images_with_labels = [\n",
    "    html.Div([\n",
    "        html.Img(src=encode_image(os.path.join(output_dir, img_file)), style={'width': '100%', 'padding': '10px'}),\n",
    "        html.P(img_file.split('_')[0], style={'text-align': 'center', 'border-bottom': '1px solid black'}),  \n",
    "    ]) for img_file in image_files\n",
    "]\n",
    "\n",
    "app.layout = html.Div([\n",
    "    html.H1('Algae rRNA Structure Visualizations - Zayn Khan & Sofia Sivilotti', style={'text-align': 'center'}),  \n",
    "    html.Div(encoded_images_with_labels, style=image_grid_style)\n",
    "])\n",
    "\n",
    "if __name__ == '__main__':\n",
    "    app.run_server(debug=True)\n"
   ]
  },
  {
   "cell_type": "markdown",
   "metadata": {},
   "source": [
    "## Bar Chart Vizualization"
   ]
  },
  {
   "cell_type": "code",
   "execution_count": 3,
   "metadata": {},
   "outputs": [
    {
     "ename": "NameError",
     "evalue": "name 'read_fasta_file' is not defined",
     "output_type": "error",
     "traceback": [
      "\u001b[0;31m---------------------------------------------------------------------------\u001b[0m",
      "\u001b[0;31mNameError\u001b[0m                                 Traceback (most recent call last)",
      "Cell \u001b[0;32mIn[3], line 14\u001b[0m\n\u001b[1;32m     11\u001b[0m         \u001b[38;5;28;01mreturn\u001b[39;00m \u001b[38;5;241m0\u001b[39m\n\u001b[1;32m     12\u001b[0m     \u001b[38;5;28;01mreturn\u001b[39;00m (matched_pairs \u001b[38;5;241m/\u001b[39m total_bases) \u001b[38;5;241m*\u001b[39m \u001b[38;5;241m100\u001b[39m\n\u001b[0;32m---> 14\u001b[0m sequences, structures, names \u001b[38;5;241m=\u001b[39m \u001b[43mread_fasta_file\u001b[49m(fasta_file)\n\u001b[1;32m     15\u001b[0m matched_percentages \u001b[38;5;241m=\u001b[39m [calculate_matched_percentage(struct) \u001b[38;5;28;01mfor\u001b[39;00m struct \u001b[38;5;129;01min\u001b[39;00m structures]\n\u001b[1;32m     18\u001b[0m \u001b[38;5;28;01mimport\u001b[39;00m \u001b[38;5;21;01mplotly\u001b[39;00m\u001b[38;5;21;01m.\u001b[39;00m\u001b[38;5;21;01mgraph_objects\u001b[39;00m \u001b[38;5;28;01mas\u001b[39;00m \u001b[38;5;21;01mgo\u001b[39;00m\n",
      "\u001b[0;31mNameError\u001b[0m: name 'read_fasta_file' is not defined"
     ]
    }
   ],
   "source": [
    "fasta_file = '/workspaces/466-project/output/microgreen_id_rna_structure_1 copy.fasta'\n",
    "\n",
    "#calculate matched percentage\n",
    "def calculate_matched_percentage(structure):\n",
    "    open_brackets = structure.count('(')\n",
    "    close_brackets = structure.count(')')\n",
    "    matched_pairs = min(open_brackets, close_brackets)\n",
    "\n",
    "    total_bases = len(structure)\n",
    "    if total_bases == 0:\n",
    "        return 0\n",
    "    return (matched_pairs / total_bases) * 100\n",
    "\n",
    "sequences, structures, names = read_fasta_file(fasta_file)\n",
    "matched_percentages = [calculate_matched_percentage(struct) for struct in structures]\n",
    "\n",
    "\n",
    "import plotly.graph_objects as go\n",
    "\n",
    "def plot_matched_percentages(names, matched_percentages):\n",
    "    fig = go.Figure(data=[\n",
    "        go.Bar(x=names, y=matched_percentages, marker_color='black')\n",
    "    ])\n",
    "    fig.update_layout(\n",
    "        title='Matched Base Pairs in Algae rRNA Secondary Structures',\n",
    "        xaxis_title='Sequence Name',\n",
    "        yaxis_title='Percentage of Matched Base Pairs (%)',\n",
    "        xaxis={'categoryorder':'total descending'},\n",
    "        template='plotly_white'\n",
    "        \n",
    "    )\n",
    "    return fig\n",
    "\n",
    "plot_matched_percentages(names, matched_percentages).show()"
   ]
  }
 ],
 "metadata": {
  "kernelspec": {
   "display_name": "Python 3",
   "language": "python",
   "name": "python3"
  },
  "language_info": {
   "codemirror_mode": {
    "name": "ipython",
    "version": 3
   },
   "file_extension": ".py",
   "mimetype": "text/x-python",
   "name": "python",
   "nbconvert_exporter": "python",
   "pygments_lexer": "ipython3",
   "version": "3.10.13"
  }
 },
 "nbformat": 4,
 "nbformat_minor": 2
}
