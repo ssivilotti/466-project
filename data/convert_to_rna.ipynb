{
 "cells": [
  {
   "cell_type": "code",
   "execution_count": 4,
   "metadata": {},
   "outputs": [],
   "source": [
    "f2 = open('microgreen_id_rna.fasta', 'w')\n",
    "with open('microgreen_id_dna.fasta', 'r') as f:\n",
    "    line = f.readline()\n",
    "    while line:\n",
    "        if (line[0] == '>'):\n",
    "            f2.write(line)\n",
    "        else:\n",
    "            f2.write(line.replace('T','U'))\n",
    "        line = f.readline()\n",
    "f2.close()"
   ]
  }
 ],
 "metadata": {
  "kernelspec": {
   "display_name": "Python 3",
   "language": "python",
   "name": "python3"
  },
  "language_info": {
   "codemirror_mode": {
    "name": "ipython",
    "version": 3
   },
   "file_extension": ".py",
   "mimetype": "text/x-python",
   "name": "python",
   "nbconvert_exporter": "python",
   "pygments_lexer": "ipython3",
   "version": "3.9.6"
  }
 },
 "nbformat": 4,
 "nbformat_minor": 2
}
